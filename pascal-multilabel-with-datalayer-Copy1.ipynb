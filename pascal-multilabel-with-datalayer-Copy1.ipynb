{
 "cells": [
  {
   "cell_type": "markdown",
   "metadata": {},
   "source": [
    "# Multilabel classification on PASCAL using python data-layers"
   ]
  },
  {
   "cell_type": "markdown",
   "metadata": {},
   "source": [
    "In this tutorial we will do multilabel classification on PASCAL VOC 2012.\n",
    "\n",
    "Multilabel classification is a generalization of multiclass classification, where each instance (image) can belong to many classes. For example, an image may both belong to a \"beach\" category and a \"vacation pictures\" category. In multiclass classification, on the other hand, each image belongs to a single class.\n",
    "\n",
    "Caffe supports multilabel classification through the SigmoidCrossEntropyLoss layer, and we will load data using a Python data layer. Data could also be provided through HDF5 or LMDB data layers, but the python data layer provides endless flexibility, so that's what we will use."
   ]
  },
  {
   "cell_type": "markdown",
   "metadata": {},
   "source": [
    "### 1. Preliminaries\n",
    "\n",
    "* First, make sure you compile caffe using\n",
    "WITH_PYTHON_LAYER := 1\n",
    "\n",
    "* Second, download PASCAL VOC 2012. It's available here: http://host.robots.ox.ac.uk/pascal/VOC/voc2012/index.html\n",
    "\n",
    "* Third, import modules:"
   ]
  },
  {
   "cell_type": "code",
   "execution_count": 1,
   "metadata": {
    "collapsed": false
   },
   "outputs": [],
   "source": [
    "import sys \n",
    "import os\n",
    "\n",
    "import numpy as np\n",
    "import os.path as osp\n",
    "import matplotlib.pyplot as plt\n",
    "\n",
    "from copy import copy\n",
    "\n",
    "% matplotlib inline\n",
    "plt.rcParams['figure.figsize'] = (6, 6)\n",
    "\n",
    "caffe_root = '../'  # this file is expected to be in {caffe_root}/examples\n",
    "sys.path.append(caffe_root + 'python')\n",
    "import caffe # If you get \"No module named _caffe\", either you have not built pycaffe or you have the wrong path.\n",
    "\n",
    "from caffe import layers as L, params as P # Shortcuts to define the net prototxt.\n",
    "sys.path.append(\"pycaffe/layers\") # the datalayers we will use are in this directory.\n",
    "sys.path.append(\"pycaffe\") # the tools file is in this folder\n",
    "\n",
    "import tools #this contains some tools that we need"
   ]
  },
  {
   "cell_type": "markdown",
   "metadata": {},
   "source": [
    "* Fourth, set data directories and initialize caffe"
   ]
  },
  {
   "cell_type": "code",
   "execution_count": 2,
   "metadata": {
    "collapsed": false,
    "scrolled": false
   },
   "outputs": [],
   "source": [
    "# set data root directory, e.g:\n",
    "pascal_root = osp.join(caffe_root, 'data/pascal/VOC2012')\n",
    "\n",
    "# these are the PASCAL classes, we'll need them later.\n",
    "classes = np.asarray(['aeroplane', 'bicycle', 'bird', 'boat', 'bottle', 'bus', 'car', 'cat', 'chair', 'cow', 'diningtable', 'dog', 'horse', 'motorbike', 'person', 'pottedplant', 'sheep', 'sofa', 'train', 'tvmonitor'])\n",
    "from IPython.core.debugger import Tracer\n",
    "# make sure we have the caffenet weight downloaded.\n",
    "if not os.path.isfile(caffe_root + 'models/bvlc_reference_caffenet/bvlc_reference_caffenet.caffemodel'):\n",
    "    print(\"Downloading pre-trained CaffeNet model...\")\n",
    "    !../scripts/download_model_binary.py ../models/bvlc_reference_caffenet\n",
    "\n",
    "# initialize caffe for gpu mode\n",
    "#caffe.set_mode_gpu()\n",
    "#caffe.set_device(0)"
   ]
  },
  {
   "cell_type": "markdown",
   "metadata": {},
   "source": [
    "### 2. Define network prototxts\n",
    "\n",
    "* Let's start by defining the nets using caffe.NetSpec. Note how we used the SigmoidCrossEntropyLoss layer. This is the right loss for multilabel classification. Also note how the data layer is defined."
   ]
  },
  {
   "cell_type": "markdown",
   "metadata": {},
   "source": [
    "### 3. Write nets and solver files\n",
    "\n",
    "* Now we can crete net and solver prototxts. For the solver, we use the CaffeSolver class from the \"tools\" module"
   ]
  },
  {
   "cell_type": "markdown",
   "metadata": {},
   "source": [
    "* This net uses a python datalayer: 'PascalMultilabelDataLayerSync', which is defined in './pycaffe/layers/pascal_multilabel_datalayers.py'. \n",
    "\n",
    "* Take a look at the code. It's quite straight-forward, and gives you full control over data and labels.\n",
    "\n",
    "* Now we can load the caffe solver as usual."
   ]
  },
  {
   "cell_type": "code",
   "execution_count": 3,
   "metadata": {
    "collapsed": false
   },
   "outputs": [
    {
     "name": "stdout",
     "output_type": "stream",
     "text": [
      "BatchLoader initialized with 5717 images\n",
      "PascalMultilabelDataLayerSync initialized for split: train, with bs: 128, im_shape: [227, 227].\n",
      "BatchLoader initialized with 5823 images\n",
      "PascalMultilabelDataLayerSync initialized for split: val, with bs: 128, im_shape: [227, 227].\n"
     ]
    }
   ],
   "source": [
    "workdir = './pascal_multilabel_with_datalayer'\n",
    "solver = caffe.SGDSolver(osp.join(workdir, 'solver.prototxt'))\n",
    "solver.net.copy_from(caffe_root + 'models/bvlc_reference_caffenet/bvlc_reference_caffenet.caffemodel')\n",
    "solver.test_nets[0].share_with(solver.net)\n",
    "#solver.step(1)caxuer"
   ]
  },
  {
   "cell_type": "markdown",
   "metadata": {},
   "source": [
    "* Let's check the data we have loaded."
   ]
  },
  {
   "cell_type": "code",
   "execution_count": 4,
   "metadata": {
    "collapsed": true
   },
   "outputs": [],
   "source": [
    "def vis_square(data):\n",
    "    \"\"\"Take an array of shape (n, height, width) or (n, height, width, 3)\n",
    "       and visualize each (height, width) thing in a grid of size approx. sqrt(n) by sqrt(n)\"\"\"\n",
    "    \n",
    "    # normalize data for display\n",
    "    data = (data - data.min()) / (data.max() - data.min())\n",
    "    \n",
    "    # force the number of filters to be square\n",
    "    n = int(np.ceil(np.sqrt(data.shape[0])))\n",
    "    padding = (((0, n ** 2 - data.shape[0]),\n",
    "               (0, 1), (0, 1))                 # add some space between filters\n",
    "               + ((0, 0),) * (data.ndim - 3))  # don't pad the last dimension (if there is one)\n",
    "    data = np.pad(data, padding, mode='constant', constant_values=1)  # pad with ones (white)\n",
    "    \n",
    "    # tile the filters into an image\n",
    "    data = data.reshape((n, n) + data.shape[1:]).transpose((0, 2, 1, 3) + tuple(range(4, data.ndim + 1)))\n",
    "    data = data.reshape((n * data.shape[1], n * data.shape[3]) + data.shape[4:])\n",
    "    \n",
    "    plt.imshow(data); plt.axis('off')"
   ]
  },
  {
   "cell_type": "markdown",
   "metadata": {},
   "source": [
    "* NOTE: we are readin the image from the data layer, so the resolution is lower than the original PASCAL image."
   ]
  },
  {
   "cell_type": "markdown",
   "metadata": {},
   "source": [
    "### 4. Train a net.\n",
    "\n",
    "* Let's train the net. First, though, we need some way to measure the accuracy. Hamming distance is commonly used in multilabel problems. We also need a simple test loop. Let's write that down. "
   ]
  },
  {
   "cell_type": "code",
   "execution_count": 5,
   "metadata": {
    "collapsed": false
   },
   "outputs": [],
   "source": [
    "def hamming_distance(gt, est):\n",
    "    return sum([1 for (g, e) in zip(gt, est) if g == e]) / float(len(gt))\n",
    "\n",
    "def check_accuracy(net, num_batches, batch_size = 128):\n",
    "    acc = 0.0\n",
    "    for t in range(num_batches):\n",
    "        net.forward()\n",
    "        gts = net.blobs['label'].data\n",
    "        ests = net.blobs['score'].data > 0\n",
    "        for gt, est in zip(gts, ests): #for each ground truth and estimated label vector\n",
    "            acc += hamming_distance(gt, est)\n",
    "    return acc / (num_batches * batch_size)"
   ]
  },
  {
   "cell_type": "markdown",
   "metadata": {},
   "source": [
    "* Alright, now let's train for a while"
   ]
  },
  {
   "cell_type": "code",
   "execution_count": 6,
   "metadata": {
    "collapsed": false
   },
   "outputs": [],
   "source": [
    "banch_size = 128\n",
    "num = int(np.ceil(5823.0/128))\n",
    "for itt in range(num):\n",
    "    test_nets = solver.test_nets[0]\n",
    "    test_nets.forward()\n",
    "    feat1 = test_nets.blobs['fc6'].data\n",
    "    feat2 = test_nets.blobs['fc7'].data\n",
    "    labels = test_nets.blobs['label'].data.astype(np.int)\n",
    "    with open('./data/valset67.csv', 'a') as f:\n",
    "        feat = np.concatenate((feat1,feat2), axis=1)\n",
    "        np.savetxt(f, feat, delimiter=',')\n",
    "    with open('./data/vallabels67.csv', 'a') as f:\n",
    "        np.savetxt(f, labels, delimiter = ',')\n",
    "#vis_square(filters)"
   ]
  },
  {
   "cell_type": "code",
   "execution_count": 7,
   "metadata": {
    "collapsed": true
   },
   "outputs": [],
   "source": [
    "banch_size = 128\n",
    "num = int(np.ceil(5717.0/128))\n",
    "for itt in range(num):\n",
    "    train_nets = solver.net\n",
    "    train_nets.forward()\n",
    "    feat1 = train_nets.blobs['fc6'].data\n",
    "    feat2 = train_nets.blobs['fc7'].data\n",
    "    labels = train_nets.blobs['label'].data.astype(np.int)\n",
    "    with open('./data/trainset67.csv', 'a') as f:\n",
    "        feat = np.concatenate((feat1,feat2), axis=1)\n",
    "        np.savetxt(f, feat,delimiter = ',')\n",
    "    with open('./data/trainlabels67.csv', 'a') as f:\n",
    "        np.savetxt(f, labels,delimiter = ',')"
   ]
  },
  {
   "cell_type": "code",
   "execution_count": 9,
   "metadata": {
    "collapsed": false
   },
   "outputs": [
    {
     "name": "stdout",
     "output_type": "stream",
     "text": [
      "(128, 4096)\n",
      "(128, 20)\n"
     ]
    },
    {
     "data": {
      "text/plain": [
       "[<matplotlib.lines.Line2D at 0x7f308a93a150>]"
      ]
     },
     "execution_count": 9,
     "metadata": {},
     "output_type": "execute_result"
    },
    {
     "data": {
      "image/png": "[encoded data removed]",
      "text/plain": [
       "<matplotlib.figure.Figure at 0x7f308a9e3b90>"
      ]
     },
     "metadata": {},
     "output_type": "display_data"
    }
   ],
   "source": [
    "print feat.shape\n",
    "print labels.shape\n",
    "plt.subplot(2, 1, 1)\n",
    "plt.plot(feat[0].flat)"
   ]
  },
  {
   "cell_type": "code",
   "execution_count": 10,
   "metadata": {
    "collapsed": false
   },
   "outputs": [
    {
     "data": {
      "text/plain": [
       "array([[ 0.        ,  0.        ,  0.32806879, ...,  2.68058586,\n",
       "         0.        ,  1.99569571],\n",
       "       [ 0.        ,  0.        ,  0.        , ...,  0.        ,\n",
       "         2.55729532,  0.        ],\n",
       "       [ 0.        ,  0.        ,  0.        , ...,  0.        ,\n",
       "         0.        ,  1.03411531],\n",
       "       ..., \n",
       "       [ 0.        ,  2.02418518,  0.        , ...,  1.11027837,\n",
       "         0.40165097,  0.        ],\n",
       "       [ 0.        ,  0.        ,  0.        , ...,  0.        ,\n",
       "         0.        ,  0.        ],\n",
       "       [ 1.78199732,  0.        ,  0.        , ...,  0.        ,\n",
       "         0.        ,  0.        ]], dtype=float32)"
      ]
     },
     "execution_count": 10,
     "metadata": {},
     "output_type": "execute_result"
    }
   ],
   "source": [
    "feat"
   ]
  },
  {
   "cell_type": "markdown",
   "metadata": {},
   "source": [
    "* Great, the accuracy is increasing, and it seems to converge rather quickly. It may seem strange that it starts off so high but it is because the ground truth is sparse. There are 20 classes in PASCAL, and usually only one or two is present. So predicting all zeros yields rather high accuracy. Let's check to make sure."
   ]
  },
  {
   "cell_type": "code",
   "execution_count": null,
   "metadata": {
    "collapsed": false
   },
   "outputs": [],
   "source": [
    "def check_baseline_accuracy(net, num_batches, batch_size = 128):\n",
    "    acc = 0.0\n",
    "    for t in range(num_batches):\n",
    "        net.forward()\n",
    "        gts = net.blobs['label'].data\n",
    "        ests = np.zeros((batch_size, len(gts)))\n",
    "        for gt, est in zip(gts, ests): #for each ground truth and estimated label vector\n",
    "            acc += hamming_distance(gt, est)\n",
    "    return acc / (num_batches * batch_size)\n",
    "\n",
    "print 'Baseline accuracy:{0:.4f}'.format(check_baseline_accuracy(solver.test_nets[0], 5823/128))"
   ]
  },
  {
   "cell_type": "code",
   "execution_count": null,
   "metadata": {
    "collapsed": false
   },
   "outputs": [],
   "source": [
    "solver.net.save('../models/bvlc_reference_caffenet/bvlc_reference_caffenet_voc.caffemodel')"
   ]
  },
  {
   "cell_type": "markdown",
   "metadata": {
    "collapsed": true
   },
   "source": [
    "### 6. Look at some prediction results"
   ]
  },
  {
   "cell_type": "code",
   "execution_count": null,
   "metadata": {
    "collapsed": false,
    "scrolled": false
   },
   "outputs": [],
   "source": [
    "test_net = solver.test_nets[0]\n",
    "for image_index in range(5):\n",
    "    plt.figure()\n",
    "    plt.imshow(transformer.deprocess(copy(test_net.blobs['data'].data[image_index, ...])))\n",
    "    gtlist = test_net.blobs['label'].data[image_index, ...].astype(np.int)\n",
    "    estlist = test_net.blobs['score'].data[image_index, ...] > 0\n",
    "    plt.title('GT: {} \\n EST: {}'.format(classes[np.where(gtlist)], classes[np.where(estlist)]))\n",
    "    plt.axis('off')"
   ]
  }
 ],
 "metadata": {
  "description": "Multilabel classification on PASCAL VOC using a Python data layer.",
  "example_name": "Multilabel Classification with Python Data Layer",
  "include_in_docs": true,
  "kernelspec": {
   "display_name": "Python 2",
   "language": "python",
   "name": "python2"
  },
  "language_info": {
   "codemirror_mode": {
    "name": "ipython",
    "version": 2
   },
   "file_extension": ".py",
   "mimetype": "text/x-python",
   "name": "python",
   "nbconvert_exporter": "python",
   "pygments_lexer": "ipython2",
   "version": "2.7.10"
  },
  "priority": 5
 },
 "nbformat": 4,
 "nbformat_minor": 0
}
